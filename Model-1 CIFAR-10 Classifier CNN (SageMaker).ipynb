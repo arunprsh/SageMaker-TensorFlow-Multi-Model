{
 "cells": [
  {
   "cell_type": "markdown",
   "metadata": {},
   "source": [
    "### Imports "
   ]
  },
  {
   "cell_type": "code",
   "execution_count": 1,
   "metadata": {},
   "outputs": [],
   "source": [
    "from sagemaker.tensorflow import TensorFlow\n",
    "from sagemaker.inputs import TrainingInput\n",
    "from sagemaker import get_execution_role\n",
    "import tensorflow as tf\n",
    "import numpy as np\n",
    "import sagemaker\n",
    "import boto3\n",
    "import os"
   ]
  },
  {
   "cell_type": "code",
   "execution_count": 2,
   "metadata": {},
   "outputs": [
    {
     "name": "stdout",
     "output_type": "stream",
     "text": [
      "Using TensorFlow version: 2.3.0\n",
      "Using SageMaker version: 2.16.1\n"
     ]
    }
   ],
   "source": [
    "print(f'Using TensorFlow version: {tf.__version__}')\n",
    "print(f'Using SageMaker version: {sagemaker.__version__}')"
   ]
  },
  {
   "cell_type": "markdown",
   "metadata": {},
   "source": [
    "#### Seed for Reproducibility"
   ]
  },
  {
   "cell_type": "code",
   "execution_count": 3,
   "metadata": {},
   "outputs": [],
   "source": [
    "SEED = 123\n",
    "np.random.seed(SEED)\n",
    "tf.random.set_seed(SEED)"
   ]
  },
  {
   "cell_type": "markdown",
   "metadata": {},
   "source": [
    "### Essentials"
   ]
  },
  {
   "cell_type": "code",
   "execution_count": 4,
   "metadata": {},
   "outputs": [],
   "source": [
    "role = get_execution_role()\n",
    "session = boto3.Session()\n",
    "sagemaker_session = sagemaker.Session()\n",
    "\n",
    "s3 = session.resource('s3')\n",
    "TF_FRAMEWORK_VERSION = '2.3.0'\n",
    "\n",
    "BUCKET = 'cv-examples-892313895307' # USE YOUR ACCOUNT ID OR INITIALS AS SUFFIX\n",
    "PREFIX = 'cifar-clf'"
   ]
  },
  {
   "cell_type": "markdown",
   "metadata": {},
   "source": [
    "### Create Train Script"
   ]
  },
  {
   "cell_type": "code",
   "execution_count": 5,
   "metadata": {},
   "outputs": [
    {
     "name": "stdout",
     "output_type": "stream",
     "text": [
      "Overwriting cifar_train.py\n"
     ]
    }
   ],
   "source": [
    "%%file cifar_train.py\n",
    "from tensorflow.keras.layers import Conv2D, MaxPooling2D, Flatten, Dense, Dropout, BatchNormalization\n",
    "from tensorflow.keras.preprocessing.image import ImageDataGenerator\n",
    "from tensorflow.keras.callbacks import ModelCheckpoint \n",
    "from tensorflow.keras.models import Sequential\n",
    "from tensorflow.keras.models import load_model\n",
    "from tensorflow.keras import utils\n",
    "import tensorflow as tf\n",
    "import pandas as pd\n",
    "import numpy as np\n",
    "import argparse\n",
    "import os\n",
    "\n",
    "\n",
    "# Set Log Level\n",
    "os.environ['TF_CPP_MIN_LOG_LEVEL'] = '3'\n",
    "\n",
    "# Seed for Reproducability \n",
    "SEED = 123\n",
    "np.random.seed(SEED)\n",
    "tf.random.set_seed(SEED)\n",
    "\n",
    "\n",
    "def parse_args():\n",
    "    parser = argparse.ArgumentParser() \n",
    "    # hyperparameters sent by the client are passed as command-line arguments to the script\n",
    "    parser.add_argument('--epochs', type=int, default=1)\n",
    "    parser.add_argument('--data', type=str, default=os.environ.get('SM_CHANNEL_DATA'))\n",
    "    parser.add_argument('--output', type=str, default=os.environ.get('SM_CHANNEL_OUTPUT'))\n",
    "    parser.add_argument('--train', type=str, default=os.environ.get('SM_CHANNEL_TRAIN'))\n",
    "    parser.add_argument('--val', type=str, default=os.environ.get('SM_CHANNEL_VAL'))\n",
    "    parser.add_argument('--test', type=str, default=os.environ.get('SM_CHANNEL_TEST'))\n",
    "    parser.add_argument('--model_dir', type=str, default=os.environ.get('SM_MODEL_DIR'))\n",
    "    return parser.parse_known_args()\n",
    "\n",
    "\n",
    "def get_train_data(train_dir):\n",
    "    X_train = np.load(os.path.join(train_dir, 'X_train.npy'))\n",
    "    y_train = np.load(os.path.join(train_dir, 'y_train.npy'))\n",
    "    print(f'X_train: {X_train.shape} | y_train: {y_train.shape}')\n",
    "    return X_train, y_train\n",
    "\n",
    "\n",
    "def get_validation_data(val_dir):\n",
    "    X_validation = np.load(os.path.join(val_dir, 'X_validation.npy'))\n",
    "    y_validation = np.load(os.path.join(val_dir, 'y_validation.npy'))\n",
    "    print(f'X_validation: {X_validation.shape} | y_validation:  {y_validation.shape}')\n",
    "    return X_validation, y_validation\n",
    "\n",
    "\n",
    "def get_test_data(test_dir):\n",
    "    X_test = np.load(os.path.join(test_dir, 'X_test.npy'))\n",
    "    y_test = np.load(os.path.join(test_dir, 'y_test.npy'))\n",
    "    print(f'X_test: {X_test.shape} | y_test:  {y_test.shape}')\n",
    "    return X_test, y_test\n",
    "\n",
    "\n",
    "if __name__ == '__main__':\n",
    "    print(f'Using TensorFlow version: {tf.__version__}')\n",
    "    DEVICE = '/cpu:0'\n",
    "    args, _ = parse_args()\n",
    "    epochs = args.epochs\n",
    "    # Load Data\n",
    "    X_train, y_train = get_train_data(args.train)\n",
    "    X_validation, y_validation = get_validation_data(args.val)\n",
    "    X_test, y_test = get_test_data(args.test)\n",
    "    \n",
    "    with tf.device(DEVICE):\n",
    "        # Data Augmentation\n",
    "        TRAIN_BATCH_SIZE = 32\n",
    "        data_generator = ImageDataGenerator(width_shift_range=0.1, height_shift_range=0.1, horizontal_flip=True)\n",
    "        train_iterator = data_generator.flow(X_train, y_train, batch_size=TRAIN_BATCH_SIZE)\n",
    "        # Define Model Architecture\n",
    "        model = Sequential()\n",
    "        # CONVOLUTIONAL LAYER 1\n",
    "        model.add(Conv2D(filters=16, kernel_size=2, padding='same', activation='relu', input_shape=(32, 32, 3)))\n",
    "        model.add(BatchNormalization())\n",
    "        model.add(MaxPooling2D(pool_size=2))\n",
    "\n",
    "        # CONVOLUTIONAL LAYER 1\n",
    "        model.add(Conv2D(filters=32, kernel_size=2, padding='same', activation='relu'))\n",
    "        model.add(BatchNormalization())\n",
    "        model.add(MaxPooling2D(pool_size=2))\n",
    "\n",
    "        # CONVOLUTIONAL LAYER 3\n",
    "        model.add(Conv2D(filters=64, kernel_size=2, padding='same', activation='relu'))\n",
    "        model.add(BatchNormalization())\n",
    "        model.add(MaxPooling2D(pool_size=2))\n",
    "        model.add(Dropout(0.3))\n",
    "\n",
    "        # FULLY CONNECTED LAYER \n",
    "        model.add(Flatten())\n",
    "        model.add(Dense(500, activation='relu'))\n",
    "        model.add(Dropout(0.4))\n",
    "        model.add(Dense(10, activation='softmax'))\n",
    "        model.summary()\n",
    "        # Compile Model\n",
    "        model.compile(loss='categorical_crossentropy', optimizer='adam', metrics=['accuracy'])\n",
    "        # Train Model\n",
    "        BATCH_SIZE = 32\n",
    "        STEPS_PER_EPOCH = int(X_train.shape[0]/TRAIN_BATCH_SIZE)\n",
    "        \n",
    "        model.fit(train_iterator, \n",
    "                  steps_per_epoch=STEPS_PER_EPOCH, \n",
    "                  batch_size=BATCH_SIZE, \n",
    "                  epochs=epochs, \n",
    "                  validation_data=(X_validation, y_validation), \n",
    "                  callbacks=[], \n",
    "                  verbose=2, \n",
    "                  shuffle=True)\n",
    "        # Evaluate on Test Set\n",
    "        result = model.evaluate(X_test, y_test, verbose=1)\n",
    "        print(f'Test Accuracy: {result[1]}')\n",
    "        # Save Model\n",
    "        model.save(f'{args.model_dir}/1')"
   ]
  },
  {
   "cell_type": "markdown",
   "metadata": {},
   "source": [
    "### Test Local Mode"
   ]
  },
  {
   "cell_type": "code",
   "execution_count": null,
   "metadata": {},
   "outputs": [],
   "source": [
    "hyperparameters = {'epochs': 1}\n",
    "estimator = TensorFlow(entry_point='cifar_train.py',\n",
    "                       model_dir='/opt/ml/model/1/', # Note: this will a s3 path for real run\n",
    "                       instance_type='local',\n",
    "                       instance_count=1,\n",
    "                       hyperparameters=hyperparameters,\n",
    "                       role=role,\n",
    "                       framework_version=TF_FRAMEWORK_VERSION, \n",
    "                       py_version='py37',\n",
    "                       script_mode=True)"
   ]
  },
  {
   "cell_type": "code",
   "execution_count": null,
   "metadata": {},
   "outputs": [],
   "source": [
    "estimator.fit({'train': 'file://./DATA/CIFAR_10/train', \n",
    "               'val': 'file://./DATA/CIFAR_10/validation', \n",
    "               'test': 'file://./DATA/CIFAR_10/test'})"
   ]
  },
  {
   "cell_type": "markdown",
   "metadata": {},
   "source": [
    "### Copy Local Train, Validation & Test Data to S3"
   ]
  },
  {
   "cell_type": "code",
   "execution_count": 6,
   "metadata": {},
   "outputs": [
    {
     "name": "stdout",
     "output_type": "stream",
     "text": [
      "upload: DATA/CIFAR_10/train/y_train.npy to s3://cv-examples-892313895307/cifar-clf/train/y_train.npy\n",
      "upload: DATA/CIFAR_10/train/X_train.npy to s3://cv-examples-892313895307/cifar-clf/train/X_train.npy\n"
     ]
    }
   ],
   "source": [
    "!aws s3 cp ./DATA/CIFAR_10/train s3://{BUCKET}/{PREFIX}/train --recursive"
   ]
  },
  {
   "cell_type": "code",
   "execution_count": 7,
   "metadata": {},
   "outputs": [
    {
     "name": "stdout",
     "output_type": "stream",
     "text": [
      "upload: DATA/CIFAR_10/validation/y_validation.npy to s3://cv-examples-892313895307/cifar-clf/validation/y_validation.npy\n",
      "upload: DATA/CIFAR_10/validation/X_validation.npy to s3://cv-examples-892313895307/cifar-clf/validation/X_validation.npy\n"
     ]
    }
   ],
   "source": [
    "!aws s3 cp ./DATA/CIFAR_10/validation s3://{BUCKET}/{PREFIX}/validation --recursive"
   ]
  },
  {
   "cell_type": "code",
   "execution_count": 8,
   "metadata": {},
   "outputs": [
    {
     "name": "stdout",
     "output_type": "stream",
     "text": [
      "upload: DATA/CIFAR_10/test/y_test.npy to s3://cv-examples-892313895307/cifar-clf/test/y_test.npy\n",
      "upload: DATA/CIFAR_10/test/X_test.npy to s3://cv-examples-892313895307/cifar-clf/test/X_test.npy\n"
     ]
    }
   ],
   "source": [
    "!aws s3 cp ./DATA/CIFAR_10/test s3://{BUCKET}/{PREFIX}/test --recursive"
   ]
  },
  {
   "cell_type": "code",
   "execution_count": 9,
   "metadata": {},
   "outputs": [],
   "source": [
    "train_input = TrainingInput(s3_data=f's3://{BUCKET}/{PREFIX}/train', \n",
    "                            distribution='FullyReplicated', \n",
    "                            content_type='npy')\n",
    "\n",
    "validation_input = TrainingInput(s3_data=f's3://{BUCKET}/{PREFIX}/validation', \n",
    "                                 distribution='FullyReplicated', \n",
    "                                 content_type='npy')\n",
    "\n",
    "test_input = TrainingInput(s3_data=f's3://{BUCKET}/{PREFIX}/test', \n",
    "                                 distribution='FullyReplicated', \n",
    "                                 content_type='npy')"
   ]
  },
  {
   "cell_type": "code",
   "execution_count": 10,
   "metadata": {},
   "outputs": [],
   "source": [
    "inputs = {'train': train_input, 'val': validation_input, 'test': test_input}"
   ]
  },
  {
   "cell_type": "markdown",
   "metadata": {},
   "source": [
    "### SageMaker Training"
   ]
  },
  {
   "cell_type": "code",
   "execution_count": null,
   "metadata": {},
   "outputs": [],
   "source": [
    "model_name = 'cifar-model-1'\n",
    "hyperparameters = {'epochs': 30}\n",
    "estimator_parameters = {'entry_point':'cifar_train.py',\n",
    "                        'instance_type': 'ml.c4.8xlarge',\n",
    "                        'instance_count': 1,\n",
    "                        'model_dir': f'/opt/ml/model',\n",
    "                        'role': role,\n",
    "                        'hyperparameters': hyperparameters,\n",
    "                        'output_path': f's3://{BUCKET}/{PREFIX}/out',\n",
    "                        'base_job_name': f'cv-{model_name}',\n",
    "                        'framework_version': TF_FRAMEWORK_VERSION,\n",
    "                        'py_version': 'py37',\n",
    "                        'script_mode': True}\n",
    "\n",
    "estimator = TensorFlow(**estimator_parameters)\n",
    "\n",
    "estimator.fit(inputs)"
   ]
  },
  {
   "cell_type": "code",
   "execution_count": 12,
   "metadata": {},
   "outputs": [
    {
     "data": {
      "text/plain": [
       "'s3://cv-examples-892313895307/cifar-clf/out/cv-cifar-model-1-2020-11-27-01-06-52-714/output/model.tar.gz'"
      ]
     },
     "execution_count": 12,
     "metadata": {},
     "output_type": "execute_result"
    }
   ],
   "source": [
    "model_location = estimator.model_data\n",
    "model_location"
   ]
  },
  {
   "cell_type": "code",
   "execution_count": 13,
   "metadata": {},
   "outputs": [],
   "source": [
    "output_1 = f's3://{BUCKET}/{PREFIX}/model/model-1.tar.gz'"
   ]
  },
  {
   "cell_type": "code",
   "execution_count": 14,
   "metadata": {},
   "outputs": [
    {
     "name": "stdout",
     "output_type": "stream",
     "text": [
      "Completed 5.4 MiB/5.4 MiB (27.7 MiB/s) with 1 file(s) remaining\r",
      "copy: s3://cv-examples-892313895307/cifar-clf/out/cv-cifar-model-1-2020-11-27-01-06-52-714/output/model.tar.gz to s3://cv-examples-892313895307/cifar-clf/model/model-1.tar.gz\r\n"
     ]
    }
   ],
   "source": [
    "!aws s3 cp {model_location} {output_1} "
   ]
  },
  {
   "cell_type": "markdown",
   "metadata": {},
   "source": [
    "### Deploy Model"
   ]
  },
  {
   "cell_type": "code",
   "execution_count": 27,
   "metadata": {},
   "outputs": [],
   "source": [
    "from sagemaker.tensorflow import TensorFlowModel\n",
    "from datetime import datetime\n",
    "import time"
   ]
  },
  {
   "cell_type": "code",
   "execution_count": 28,
   "metadata": {},
   "outputs": [
    {
     "data": {
      "text/plain": [
       "'2020-11-27-01-38-43'"
      ]
     },
     "execution_count": 28,
     "metadata": {},
     "output_type": "execute_result"
    }
   ],
   "source": [
    "current_time = datetime.fromtimestamp(time.time()).strftime('%Y-%m-%d-%H-%M-%S')\n",
    "current_time"
   ]
  },
  {
   "cell_type": "code",
   "execution_count": 29,
   "metadata": {},
   "outputs": [],
   "source": [
    "model = TensorFlowModel(model_data=output_1, \n",
    "                        role=role,  \n",
    "                        name=f'cv-cifar-model-{current_time}', \n",
    "                        sagemaker_session=sagemaker_session, \n",
    "                        framework_version=TF_FRAMEWORK_VERSION)"
   ]
  },
  {
   "cell_type": "code",
   "execution_count": 30,
   "metadata": {},
   "outputs": [
    {
     "name": "stderr",
     "output_type": "stream",
     "text": [
      "update_endpoint is a no-op in sagemaker>=2.\n",
      "See: https://sagemaker.readthedocs.io/en/stable/v2.html for details.\n"
     ]
    },
    {
     "name": "stdout",
     "output_type": "stream",
     "text": [
      "-------------!"
     ]
    }
   ],
   "source": [
    "predictor = model.deploy(initial_instance_count=1, \n",
    "                         instance_type='ml.m5.large', \n",
    "                         endpoint_name=f'cv-cifar-model-{current_time}')"
   ]
  },
  {
   "cell_type": "markdown",
   "metadata": {},
   "source": [
    "### Real Time Inference - Test Deployed Endpoint"
   ]
  },
  {
   "cell_type": "code",
   "execution_count": 96,
   "metadata": {},
   "outputs": [],
   "source": [
    "%matplotlib inline\n",
    "from tensorflow.keras.preprocessing.image import img_to_array\n",
    "from tensorflow.keras.preprocessing.image import load_img\n",
    "from IPython.display import Image"
   ]
  },
  {
   "cell_type": "code",
   "execution_count": 97,
   "metadata": {},
   "outputs": [],
   "source": [
    "CIFAR10_LABELS = ['airplane', 'automobile', 'bird', 'cat', 'deer', 'dog', 'frog', 'horse', 'ship', 'truck']"
   ]
  },
  {
   "cell_type": "code",
   "execution_count": 98,
   "metadata": {},
   "outputs": [
    {
     "data": {
      "image/png": "[encoded data removed]",
      "text/plain": [
       "<IPython.core.display.Image object>"
      ]
     },
     "execution_count": 98,
     "metadata": {},
     "output_type": "execute_result"
    }
   ],
   "source": [
    "Image('./DATA/CIFAR_10/raw_images/airplane.png')"
   ]
  },
  {
   "cell_type": "code",
   "execution_count": 99,
   "metadata": {},
   "outputs": [],
   "source": [
    "img = load_img('./DATA/CIFAR_10/raw_images/airplane.png', target_size=(32, 32))\n",
    "data = img_to_array(img)\n",
    "data = data.astype('float32')\n",
    "data = data / 255.0\n",
    "data = data.reshape(1, 32, 32, 3)"
   ]
  },
  {
   "cell_type": "code",
   "execution_count": 100,
   "metadata": {},
   "outputs": [],
   "source": [
    "y_pred = predictor.predict(data)"
   ]
  },
  {
   "cell_type": "code",
   "execution_count": 101,
   "metadata": {},
   "outputs": [
    {
     "name": "stdout",
     "output_type": "stream",
     "text": [
      "Predicted Label: [airplane]\n"
     ]
    }
   ],
   "source": [
    "predicted_label = CIFAR10_LABELS[np.argmax(y_pred)]\n",
    "print(f'Predicted Label: [{predicted_label}]')"
   ]
  },
  {
   "cell_type": "code",
   "execution_count": null,
   "metadata": {},
   "outputs": [],
   "source": []
  },
  {
   "cell_type": "code",
   "execution_count": null,
   "metadata": {},
   "outputs": [],
   "source": []
  }
 ],
 "metadata": {
  "kernelspec": {
   "display_name": "conda_tensorflow_p36",
   "language": "python",
   "name": "conda_tensorflow_p36"
  },
  "language_info": {
   "codemirror_mode": {
    "name": "ipython",
    "version": 3
   },
   "file_extension": ".py",
   "mimetype": "text/x-python",
   "name": "python",
   "nbconvert_exporter": "python",
   "pygments_lexer": "ipython3",
   "version": "3.6.10"
  }
 },
 "nbformat": 4,
 "nbformat_minor": 4
}
