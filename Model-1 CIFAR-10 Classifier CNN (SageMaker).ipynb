{
 "cells": [
  {
   "cell_type": "markdown",
   "metadata": {},
   "source": [
    "### Imports "
   ]
  },
  {
   "cell_type": "code",
   "execution_count": 1,
   "metadata": {},
   "outputs": [],
   "source": [
    "from sagemaker.tensorflow import TensorFlow\n",
    "from sagemaker.inputs import TrainingInput\n",
    "from sagemaker import get_execution_role\n",
    "import sagemaker\n",
    "import boto3\n",
    "import os"
   ]
  },
  {
   "cell_type": "code",
   "execution_count": 2,
   "metadata": {},
   "outputs": [
    {
     "data": {
      "text/plain": [
       "'2.16.1'"
      ]
     },
     "execution_count": 2,
     "metadata": {},
     "output_type": "execute_result"
    }
   ],
   "source": [
    "sagemaker.__version__"
   ]
  },
  {
   "cell_type": "markdown",
   "metadata": {},
   "source": [
    "### Essentials"
   ]
  },
  {
   "cell_type": "code",
   "execution_count": 3,
   "metadata": {},
   "outputs": [],
   "source": [
    "role = get_execution_role()\n",
    "session = boto3.Session()\n",
    "sagemaker_session = sagemaker.Session()\n",
    "\n",
    "s3 = session.resource('s3')\n",
    "TF_FRAMEWORK_VERSION = '2.3.0'\n",
    "\n",
    "BUCKET = 'cv-examples-892313895307' # USE YOUR ACCOUNT ID OR INITIALS AS SUFFIX\n",
    "PREFIX = 'cifar-clf'"
   ]
  },
  {
   "cell_type": "markdown",
   "metadata": {},
   "source": [
    "### Test Local Mode"
   ]
  },
  {
   "cell_type": "code",
   "execution_count": 4,
   "metadata": {},
   "outputs": [],
   "source": [
    "hyperparameters = {'epochs': 2}\n",
    "estimator = TensorFlow(entry_point='cifar_train.py',\n",
    "                       model_dir='/opt/ml/model/1/', # Note: this will a s3 path for real run\n",
    "                       instance_type='local',\n",
    "                       instance_count=1,\n",
    "                       hyperparameters=hyperparameters,\n",
    "                       role=role,\n",
    "                       framework_version=TF_FRAMEWORK_VERSION, \n",
    "                       py_version='py37',\n",
    "                       script_mode=True)"
   ]
  },
  {
   "cell_type": "code",
   "execution_count": 5,
   "metadata": {},
   "outputs": [
    {
     "name": "stdout",
     "output_type": "stream",
     "text": [
      "Creating tmpxrae01v4_algo-1-5xmx4_1 ... \n",
      "\u001b[1BAttaching to tmpxrae01v4_algo-1-5xmx4_12mdone\u001b[0m\n",
      "\u001b[36malgo-1-5xmx4_1  |\u001b[0m 2020-11-24 01:52:02,336 sagemaker-training-toolkit INFO     Imported framework sagemaker_tensorflow_container.training\n",
      "\u001b[36malgo-1-5xmx4_1  |\u001b[0m 2020-11-24 01:52:02,342 sagemaker-training-toolkit INFO     No GPUs detected (normal if no gpus installed)\n",
      "\u001b[36malgo-1-5xmx4_1  |\u001b[0m 2020-11-24 01:52:03,491 sagemaker-training-toolkit INFO     No GPUs detected (normal if no gpus installed)\n",
      "\u001b[36malgo-1-5xmx4_1  |\u001b[0m 2020-11-24 01:52:03,580 sagemaker-training-toolkit INFO     No GPUs detected (normal if no gpus installed)\n",
      "\u001b[36malgo-1-5xmx4_1  |\u001b[0m 2020-11-24 01:52:03,594 sagemaker-training-toolkit INFO     No GPUs detected (normal if no gpus installed)\n",
      "\u001b[36malgo-1-5xmx4_1  |\u001b[0m 2020-11-24 01:52:03,603 sagemaker-training-toolkit INFO     Invoking user script\n",
      "\u001b[36malgo-1-5xmx4_1  |\u001b[0m \n",
      "\u001b[36malgo-1-5xmx4_1  |\u001b[0m Training Env:\n",
      "\u001b[36malgo-1-5xmx4_1  |\u001b[0m \n",
      "\u001b[36malgo-1-5xmx4_1  |\u001b[0m {\n",
      "\u001b[36malgo-1-5xmx4_1  |\u001b[0m     \"additional_framework_parameters\": {},\n",
      "\u001b[36malgo-1-5xmx4_1  |\u001b[0m     \"channel_input_dirs\": {\n",
      "\u001b[36malgo-1-5xmx4_1  |\u001b[0m         \"train\": \"/opt/ml/input/data/train\",\n",
      "\u001b[36malgo-1-5xmx4_1  |\u001b[0m         \"val\": \"/opt/ml/input/data/val\"\n",
      "\u001b[36malgo-1-5xmx4_1  |\u001b[0m     },\n",
      "\u001b[36malgo-1-5xmx4_1  |\u001b[0m     \"current_host\": \"algo-1-5xmx4\",\n",
      "\u001b[36malgo-1-5xmx4_1  |\u001b[0m     \"framework_module\": \"sagemaker_tensorflow_container.training:main\",\n",
      "\u001b[36malgo-1-5xmx4_1  |\u001b[0m     \"hosts\": [\n",
      "\u001b[36malgo-1-5xmx4_1  |\u001b[0m         \"algo-1-5xmx4\"\n",
      "\u001b[36malgo-1-5xmx4_1  |\u001b[0m     ],\n",
      "\u001b[36malgo-1-5xmx4_1  |\u001b[0m     \"hyperparameters\": {\n",
      "\u001b[36malgo-1-5xmx4_1  |\u001b[0m         \"epochs\": 2,\n",
      "\u001b[36malgo-1-5xmx4_1  |\u001b[0m         \"model_dir\": \"/opt/ml/model/1/\"\n",
      "\u001b[36malgo-1-5xmx4_1  |\u001b[0m     },\n",
      "\u001b[36malgo-1-5xmx4_1  |\u001b[0m     \"input_config_dir\": \"/opt/ml/input/config\",\n",
      "\u001b[36malgo-1-5xmx4_1  |\u001b[0m     \"input_data_config\": {\n",
      "\u001b[36malgo-1-5xmx4_1  |\u001b[0m         \"train\": {\n",
      "\u001b[36malgo-1-5xmx4_1  |\u001b[0m             \"TrainingInputMode\": \"File\"\n",
      "\u001b[36malgo-1-5xmx4_1  |\u001b[0m         },\n",
      "\u001b[36malgo-1-5xmx4_1  |\u001b[0m         \"val\": {\n",
      "\u001b[36malgo-1-5xmx4_1  |\u001b[0m             \"TrainingInputMode\": \"File\"\n",
      "\u001b[36malgo-1-5xmx4_1  |\u001b[0m         }\n",
      "\u001b[36malgo-1-5xmx4_1  |\u001b[0m     },\n",
      "\u001b[36malgo-1-5xmx4_1  |\u001b[0m     \"input_dir\": \"/opt/ml/input\",\n",
      "\u001b[36malgo-1-5xmx4_1  |\u001b[0m     \"is_master\": true,\n",
      "\u001b[36malgo-1-5xmx4_1  |\u001b[0m     \"job_name\": \"tensorflow-training-2020-11-24-01-51-57-016\",\n",
      "\u001b[36malgo-1-5xmx4_1  |\u001b[0m     \"log_level\": 20,\n",
      "\u001b[36malgo-1-5xmx4_1  |\u001b[0m     \"master_hostname\": \"algo-1-5xmx4\",\n",
      "\u001b[36malgo-1-5xmx4_1  |\u001b[0m     \"model_dir\": \"/opt/ml/model\",\n",
      "\u001b[36malgo-1-5xmx4_1  |\u001b[0m     \"module_dir\": \"s3://sagemaker-us-east-1-892313895307/tensorflow-training-2020-11-24-01-51-57-016/source/sourcedir.tar.gz\",\n",
      "\u001b[36malgo-1-5xmx4_1  |\u001b[0m     \"module_name\": \"cifar_train\",\n",
      "\u001b[36malgo-1-5xmx4_1  |\u001b[0m     \"network_interface_name\": \"eth0\",\n",
      "\u001b[36malgo-1-5xmx4_1  |\u001b[0m     \"num_cpus\": 8,\n",
      "\u001b[36malgo-1-5xmx4_1  |\u001b[0m     \"num_gpus\": 0,\n",
      "\u001b[36malgo-1-5xmx4_1  |\u001b[0m     \"output_data_dir\": \"/opt/ml/output/data\",\n",
      "\u001b[36malgo-1-5xmx4_1  |\u001b[0m     \"output_dir\": \"/opt/ml/output\",\n",
      "\u001b[36malgo-1-5xmx4_1  |\u001b[0m     \"output_intermediate_dir\": \"/opt/ml/output/intermediate\",\n",
      "\u001b[36malgo-1-5xmx4_1  |\u001b[0m     \"resource_config\": {\n",
      "\u001b[36malgo-1-5xmx4_1  |\u001b[0m         \"current_host\": \"algo-1-5xmx4\",\n",
      "\u001b[36malgo-1-5xmx4_1  |\u001b[0m         \"hosts\": [\n",
      "\u001b[36malgo-1-5xmx4_1  |\u001b[0m             \"algo-1-5xmx4\"\n",
      "\u001b[36malgo-1-5xmx4_1  |\u001b[0m         ]\n",
      "\u001b[36malgo-1-5xmx4_1  |\u001b[0m     },\n",
      "\u001b[36malgo-1-5xmx4_1  |\u001b[0m     \"user_entry_point\": \"cifar_train.py\"\n",
      "\u001b[36malgo-1-5xmx4_1  |\u001b[0m }\n",
      "\u001b[36malgo-1-5xmx4_1  |\u001b[0m \n",
      "\u001b[36malgo-1-5xmx4_1  |\u001b[0m Environment variables:\n",
      "\u001b[36malgo-1-5xmx4_1  |\u001b[0m \n",
      "\u001b[36malgo-1-5xmx4_1  |\u001b[0m SM_HOSTS=[\"algo-1-5xmx4\"]\n",
      "\u001b[36malgo-1-5xmx4_1  |\u001b[0m SM_NETWORK_INTERFACE_NAME=eth0\n",
      "\u001b[36malgo-1-5xmx4_1  |\u001b[0m SM_HPS={\"epochs\":2,\"model_dir\":\"/opt/ml/model/1/\"}\n",
      "\u001b[36malgo-1-5xmx4_1  |\u001b[0m SM_USER_ENTRY_POINT=cifar_train.py\n",
      "\u001b[36malgo-1-5xmx4_1  |\u001b[0m SM_FRAMEWORK_PARAMS={}\n",
      "\u001b[36malgo-1-5xmx4_1  |\u001b[0m SM_RESOURCE_CONFIG={\"current_host\":\"algo-1-5xmx4\",\"hosts\":[\"algo-1-5xmx4\"]}\n",
      "\u001b[36malgo-1-5xmx4_1  |\u001b[0m SM_INPUT_DATA_CONFIG={\"train\":{\"TrainingInputMode\":\"File\"},\"val\":{\"TrainingInputMode\":\"File\"}}\n",
      "\u001b[36malgo-1-5xmx4_1  |\u001b[0m SM_OUTPUT_DATA_DIR=/opt/ml/output/data\n",
      "\u001b[36malgo-1-5xmx4_1  |\u001b[0m SM_CHANNELS=[\"train\",\"val\"]\n",
      "\u001b[36malgo-1-5xmx4_1  |\u001b[0m SM_CURRENT_HOST=algo-1-5xmx4\n",
      "\u001b[36malgo-1-5xmx4_1  |\u001b[0m SM_MODULE_NAME=cifar_train\n",
      "\u001b[36malgo-1-5xmx4_1  |\u001b[0m SM_LOG_LEVEL=20\n",
      "\u001b[36malgo-1-5xmx4_1  |\u001b[0m SM_FRAMEWORK_MODULE=sagemaker_tensorflow_container.training:main\n",
      "\u001b[36malgo-1-5xmx4_1  |\u001b[0m SM_INPUT_DIR=/opt/ml/input\n",
      "\u001b[36malgo-1-5xmx4_1  |\u001b[0m SM_INPUT_CONFIG_DIR=/opt/ml/input/config\n",
      "\u001b[36malgo-1-5xmx4_1  |\u001b[0m SM_OUTPUT_DIR=/opt/ml/output\n",
      "\u001b[36malgo-1-5xmx4_1  |\u001b[0m SM_NUM_CPUS=8\n",
      "\u001b[36malgo-1-5xmx4_1  |\u001b[0m SM_NUM_GPUS=0\n",
      "\u001b[36malgo-1-5xmx4_1  |\u001b[0m SM_MODEL_DIR=/opt/ml/model\n",
      "\u001b[36malgo-1-5xmx4_1  |\u001b[0m SM_MODULE_DIR=s3://sagemaker-us-east-1-892313895307/tensorflow-training-2020-11-24-01-51-57-016/source/sourcedir.tar.gz\n",
      "\u001b[36malgo-1-5xmx4_1  |\u001b[0m SM_TRAINING_ENV={\"additional_framework_parameters\":{},\"channel_input_dirs\":{\"train\":\"/opt/ml/input/data/train\",\"val\":\"/opt/ml/input/data/val\"},\"current_host\":\"algo-1-5xmx4\",\"framework_module\":\"sagemaker_tensorflow_container.training:main\",\"hosts\":[\"algo-1-5xmx4\"],\"hyperparameters\":{\"epochs\":2,\"model_dir\":\"/opt/ml/model/1/\"},\"input_config_dir\":\"/opt/ml/input/config\",\"input_data_config\":{\"train\":{\"TrainingInputMode\":\"File\"},\"val\":{\"TrainingInputMode\":\"File\"}},\"input_dir\":\"/opt/ml/input\",\"is_master\":true,\"job_name\":\"tensorflow-training-2020-11-24-01-51-57-016\",\"log_level\":20,\"master_hostname\":\"algo-1-5xmx4\",\"model_dir\":\"/opt/ml/model\",\"module_dir\":\"s3://sagemaker-us-east-1-892313895307/tensorflow-training-2020-11-24-01-51-57-016/source/sourcedir.tar.gz\",\"module_name\":\"cifar_train\",\"network_interface_name\":\"eth0\",\"num_cpus\":8,\"num_gpus\":0,\"output_data_dir\":\"/opt/ml/output/data\",\"output_dir\":\"/opt/ml/output\",\"output_intermediate_dir\":\"/opt/ml/output/intermediate\",\"resource_config\":{\"current_host\":\"algo-1-5xmx4\",\"hosts\":[\"algo-1-5xmx4\"]},\"user_entry_point\":\"cifar_train.py\"}\n",
      "\u001b[36malgo-1-5xmx4_1  |\u001b[0m SM_USER_ARGS=[\"--epochs\",\"2\",\"--model_dir\",\"/opt/ml/model/1/\"]\n",
      "\u001b[36malgo-1-5xmx4_1  |\u001b[0m SM_OUTPUT_INTERMEDIATE_DIR=/opt/ml/output/intermediate\n",
      "\u001b[36malgo-1-5xmx4_1  |\u001b[0m SM_CHANNEL_TRAIN=/opt/ml/input/data/train\n",
      "\u001b[36malgo-1-5xmx4_1  |\u001b[0m SM_CHANNEL_VAL=/opt/ml/input/data/val\n",
      "\u001b[36malgo-1-5xmx4_1  |\u001b[0m SM_HP_EPOCHS=2\n",
      "\u001b[36malgo-1-5xmx4_1  |\u001b[0m SM_HP_MODEL_DIR=/opt/ml/model/1/\n",
      "\u001b[36malgo-1-5xmx4_1  |\u001b[0m PYTHONPATH=/opt/ml/code:/usr/local/bin:/usr/local/lib/python37.zip:/usr/local/lib/python3.7:/usr/local/lib/python3.7/lib-dynload:/usr/local/lib/python3.7/site-packages\n",
      "\u001b[36malgo-1-5xmx4_1  |\u001b[0m \n",
      "\u001b[36malgo-1-5xmx4_1  |\u001b[0m Invoking script with the following command:\n",
      "\u001b[36malgo-1-5xmx4_1  |\u001b[0m \n",
      "\u001b[36malgo-1-5xmx4_1  |\u001b[0m /usr/local/bin/python3.7 cifar_train.py --epochs 2 --model_dir /opt/ml/model/1/\n",
      "\u001b[36malgo-1-5xmx4_1  |\u001b[0m \n",
      "\u001b[36malgo-1-5xmx4_1  |\u001b[0m \n",
      "\u001b[36malgo-1-5xmx4_1  |\u001b[0m Using TensorFlow version: 2.3.0\n",
      "\u001b[36malgo-1-5xmx4_1  |\u001b[0m X train (49500, 32, 32, 3) y train (49500, 10)\n",
      "\u001b[36malgo-1-5xmx4_1  |\u001b[0m X validation (500, 32, 32, 3) y validation (500, 10)\n",
      "\u001b[36malgo-1-5xmx4_1  |\u001b[0m Model: \"sequential\"\n",
      "\u001b[36malgo-1-5xmx4_1  |\u001b[0m _________________________________________________________________\n",
      "\u001b[36malgo-1-5xmx4_1  |\u001b[0m Layer (type)                 Output Shape              Param #   \n",
      "\u001b[36malgo-1-5xmx4_1  |\u001b[0m =================================================================\n",
      "\u001b[36malgo-1-5xmx4_1  |\u001b[0m conv2d (Conv2D)              (None, 32, 32, 16)        208       \n",
      "\u001b[36malgo-1-5xmx4_1  |\u001b[0m _________________________________________________________________\n",
      "\u001b[36malgo-1-5xmx4_1  |\u001b[0m batch_normalization (BatchNo (None, 32, 32, 16)        64        \n",
      "\u001b[36malgo-1-5xmx4_1  |\u001b[0m _________________________________________________________________\n",
      "\u001b[36malgo-1-5xmx4_1  |\u001b[0m max_pooling2d (MaxPooling2D) (None, 16, 16, 16)        0         \n",
      "\u001b[36malgo-1-5xmx4_1  |\u001b[0m _________________________________________________________________\n",
      "\u001b[36malgo-1-5xmx4_1  |\u001b[0m conv2d_1 (Conv2D)            (None, 16, 16, 32)        2080      \n",
      "\u001b[36malgo-1-5xmx4_1  |\u001b[0m _________________________________________________________________\n",
      "\u001b[36malgo-1-5xmx4_1  |\u001b[0m batch_normalization_1 (Batch (None, 16, 16, 32)        128       \n",
      "\u001b[36malgo-1-5xmx4_1  |\u001b[0m _________________________________________________________________\n",
      "\u001b[36malgo-1-5xmx4_1  |\u001b[0m max_pooling2d_1 (MaxPooling2 (None, 8, 8, 32)          0         \n",
      "\u001b[36malgo-1-5xmx4_1  |\u001b[0m _________________________________________________________________\n",
      "\u001b[36malgo-1-5xmx4_1  |\u001b[0m conv2d_2 (Conv2D)            (None, 8, 8, 64)          8256      \n",
      "\u001b[36malgo-1-5xmx4_1  |\u001b[0m _________________________________________________________________\n",
      "\u001b[36malgo-1-5xmx4_1  |\u001b[0m batch_normalization_2 (Batch (None, 8, 8, 64)          256       \n",
      "\u001b[36malgo-1-5xmx4_1  |\u001b[0m _________________________________________________________________\n",
      "\u001b[36malgo-1-5xmx4_1  |\u001b[0m max_pooling2d_2 (MaxPooling2 (None, 4, 4, 64)          0         \n",
      "\u001b[36malgo-1-5xmx4_1  |\u001b[0m _________________________________________________________________\n",
      "\u001b[36malgo-1-5xmx4_1  |\u001b[0m dropout (Dropout)            (None, 4, 4, 64)          0         \n",
      "\u001b[36malgo-1-5xmx4_1  |\u001b[0m _________________________________________________________________\n",
      "\u001b[36malgo-1-5xmx4_1  |\u001b[0m flatten (Flatten)            (None, 1024)              0         \n",
      "\u001b[36malgo-1-5xmx4_1  |\u001b[0m _________________________________________________________________\n",
      "\u001b[36malgo-1-5xmx4_1  |\u001b[0m dense (Dense)                (None, 500)               512500    \n",
      "\u001b[36malgo-1-5xmx4_1  |\u001b[0m _________________________________________________________________\n",
      "\u001b[36malgo-1-5xmx4_1  |\u001b[0m dropout_1 (Dropout)          (None, 500)               0         \n",
      "\u001b[36malgo-1-5xmx4_1  |\u001b[0m _________________________________________________________________\n",
      "\u001b[36malgo-1-5xmx4_1  |\u001b[0m dense_1 (Dense)              (None, 10)                5010      \n",
      "\u001b[36malgo-1-5xmx4_1  |\u001b[0m =================================================================\n",
      "\u001b[36malgo-1-5xmx4_1  |\u001b[0m Total params: 528,502\n",
      "\u001b[36malgo-1-5xmx4_1  |\u001b[0m Trainable params: 528,278\n",
      "\u001b[36malgo-1-5xmx4_1  |\u001b[0m Non-trainable params: 224\n",
      "\u001b[36malgo-1-5xmx4_1  |\u001b[0m _________________________________________________________________\n",
      "\u001b[36malgo-1-5xmx4_1  |\u001b[0m Epoch 1/2\n"
     ]
    },
    {
     "name": "stdout",
     "output_type": "stream",
     "text": [
      "\u001b[36malgo-1-5xmx4_1  |\u001b[0m 1546/1546 - 35s - loss: 1.7551 - accuracy: 0.3682 - val_loss: 1.4234 - val_accuracy: 0.4700\n",
      "\u001b[36malgo-1-5xmx4_1  |\u001b[0m Epoch 2/2\n",
      "\u001b[36malgo-1-5xmx4_1  |\u001b[0m 1546/1546 - 35s - loss: 1.5562 - accuracy: 0.4315 - val_loss: 1.4446 - val_accuracy: 0.4580\n",
      "\u001b[36malgo-1-5xmx4_1  |\u001b[0m 2020-11-24 01:53:18,522 sagemaker-training-toolkit INFO     Reporting training SUCCESS\n",
      "\u001b[36mtmpxrae01v4_algo-1-5xmx4_1 exited with code 0\n",
      "\u001b[0mAborting on container exit...\n",
      "===== Job Complete =====\n"
     ]
    }
   ],
   "source": [
    "estimator.fit({'train': 'file://./DATA/CIFAR_10/train', 'val': 'file://./DATA/CIFAR_10/validation'})"
   ]
  },
  {
   "cell_type": "markdown",
   "metadata": {},
   "source": [
    "### Copy Local Train & Validation Data to S3"
   ]
  },
  {
   "cell_type": "code",
   "execution_count": 6,
   "metadata": {},
   "outputs": [
    {
     "name": "stdout",
     "output_type": "stream",
     "text": [
      "upload: DATA/CIFAR_10/train/y_train.npy to s3://cv-examples-892313895307/cifar-clf/train/y_train.npy\n",
      "upload: DATA/CIFAR_10/train/X_train.npy to s3://cv-examples-892313895307/cifar-clf/train/X_train.npy\n"
     ]
    }
   ],
   "source": [
    "!aws s3 cp ./DATA/CIFAR_10/train s3://{BUCKET}/{PREFIX}/train --recursive"
   ]
  },
  {
   "cell_type": "code",
   "execution_count": 7,
   "metadata": {},
   "outputs": [
    {
     "name": "stdout",
     "output_type": "stream",
     "text": [
      "upload: DATA/CIFAR_10/validation/y_validation.npy to s3://cv-examples-892313895307/cifar-clf/validation/y_validation.npy\n",
      "upload: DATA/CIFAR_10/validation/X_validation.npy to s3://cv-examples-892313895307/cifar-clf/validation/X_validation.npy\n"
     ]
    }
   ],
   "source": [
    "!aws s3 cp ./DATA/CIFAR_10/validation s3://{BUCKET}/{PREFIX}/validation --recursive"
   ]
  },
  {
   "cell_type": "code",
   "execution_count": 14,
   "metadata": {},
   "outputs": [],
   "source": [
    "train_input = TrainingInput(s3_data=f's3://{BUCKET}/{PREFIX}/train', \n",
    "                           distribution='FullyReplicated', \n",
    "                           content_type='npy')\n",
    "validation_input = TrainingInput(s3_data=f's3://{BUCKET}/{PREFIX}/validation', \n",
    "                         distribution='FullyReplicated', \n",
    "                         content_type='npy')"
   ]
  },
  {
   "cell_type": "code",
   "execution_count": 15,
   "metadata": {},
   "outputs": [
    {
     "data": {
      "text/plain": [
       "{'train': <sagemaker.inputs.TrainingInput at 0x7f2ad14ed630>,\n",
       " 'val': <sagemaker.inputs.TrainingInput at 0x7f2ad14ed0b8>}"
      ]
     },
     "execution_count": 15,
     "metadata": {},
     "output_type": "execute_result"
    }
   ],
   "source": [
    "inputs = {'train': train_input, 'val': validation_input}\n",
    "inputs"
   ]
  },
  {
   "cell_type": "markdown",
   "metadata": {},
   "source": [
    "### SageMaker Training"
   ]
  },
  {
   "cell_type": "code",
   "execution_count": 16,
   "metadata": {},
   "outputs": [
    {
     "name": "stdout",
     "output_type": "stream",
     "text": [
      "2020-11-24 03:10:52 Starting - Starting the training job...\n",
      "2020-11-24 03:10:54 Starting - Launching requested ML instances.........\n",
      "2020-11-24 03:12:27 Starting - Preparing the instances for training......\n",
      "2020-11-24 03:13:31 Downloading - Downloading input data......\n",
      "2020-11-24 03:14:41 Training - Training image download completed. Training in progress..\u001b[34m2020-11-24 03:14:50,378 sagemaker-training-toolkit INFO     Imported framework sagemaker_tensorflow_container.training\u001b[0m\n",
      "\u001b[34m2020-11-24 03:14:50,384 sagemaker-training-toolkit INFO     No GPUs detected (normal if no gpus installed)\u001b[0m\n",
      "\u001b[34m2020-11-24 03:15:51,986 sagemaker-training-toolkit INFO     No GPUs detected (normal if no gpus installed)\u001b[0m\n",
      "\u001b[34m2020-11-24 03:15:52,099 sagemaker-training-toolkit INFO     No GPUs detected (normal if no gpus installed)\u001b[0m\n",
      "\u001b[34m2020-11-24 03:15:52,116 sagemaker-training-toolkit INFO     No GPUs detected (normal if no gpus installed)\u001b[0m\n",
      "\u001b[34m2020-11-24 03:15:52,126 sagemaker-training-toolkit INFO     Invoking user script\n",
      "\u001b[0m\n",
      "\u001b[34mTraining Env:\n",
      "\u001b[0m\n",
      "\u001b[34m{\n",
      "    \"additional_framework_parameters\": {},\n",
      "    \"channel_input_dirs\": {\n",
      "        \"val\": \"/opt/ml/input/data/val\",\n",
      "        \"train\": \"/opt/ml/input/data/train\"\n",
      "    },\n",
      "    \"current_host\": \"algo-1\",\n",
      "    \"framework_module\": \"sagemaker_tensorflow_container.training:main\",\n",
      "    \"hosts\": [\n",
      "        \"algo-1\"\n",
      "    ],\n",
      "    \"hyperparameters\": {\n",
      "        \"model_dir\": \"/opt/ml/model\",\n",
      "        \"epochs\": 2\n",
      "    },\n",
      "    \"input_config_dir\": \"/opt/ml/input/config\",\n",
      "    \"input_data_config\": {\n",
      "        \"val\": {\n",
      "            \"ContentType\": \"npy\",\n",
      "            \"TrainingInputMode\": \"File\",\n",
      "            \"S3DistributionType\": \"FullyReplicated\",\n",
      "            \"RecordWrapperType\": \"None\"\n",
      "        },\n",
      "        \"train\": {\n",
      "            \"ContentType\": \"npy\",\n",
      "            \"TrainingInputMode\": \"File\",\n",
      "            \"S3DistributionType\": \"FullyReplicated\",\n",
      "            \"RecordWrapperType\": \"None\"\n",
      "        }\n",
      "    },\n",
      "    \"input_dir\": \"/opt/ml/input\",\n",
      "    \"is_master\": true,\n",
      "    \"job_name\": \"cv-cifar-model-1-2020-11-24-03-10-52-624\",\n",
      "    \"log_level\": 20,\n",
      "    \"master_hostname\": \"algo-1\",\n",
      "    \"model_dir\": \"/opt/ml/model\",\n",
      "    \"module_dir\": \"s3://cv-examples-892313895307/cv-cifar-model-1-2020-11-24-03-10-52-624/source/sourcedir.tar.gz\",\n",
      "    \"module_name\": \"cifar_train\",\n",
      "    \"network_interface_name\": \"eth0\",\n",
      "    \"num_cpus\": 16,\n",
      "    \"num_gpus\": 0,\n",
      "    \"output_data_dir\": \"/opt/ml/output/data\",\n",
      "    \"output_dir\": \"/opt/ml/output\",\n",
      "    \"output_intermediate_dir\": \"/opt/ml/output/intermediate\",\n",
      "    \"resource_config\": {\n",
      "        \"current_host\": \"algo-1\",\n",
      "        \"hosts\": [\n",
      "            \"algo-1\"\n",
      "        ],\n",
      "        \"network_interface_name\": \"eth0\"\n",
      "    },\n",
      "    \"user_entry_point\": \"cifar_train.py\"\u001b[0m\n",
      "\u001b[34m}\n",
      "\u001b[0m\n",
      "\u001b[34mEnvironment variables:\n",
      "\u001b[0m\n",
      "\u001b[34mSM_HOSTS=[\"algo-1\"]\u001b[0m\n",
      "\u001b[34mSM_NETWORK_INTERFACE_NAME=eth0\u001b[0m\n",
      "\u001b[34mSM_HPS={\"epochs\":2,\"model_dir\":\"/opt/ml/model\"}\u001b[0m\n",
      "\u001b[34mSM_USER_ENTRY_POINT=cifar_train.py\u001b[0m\n",
      "\u001b[34mSM_FRAMEWORK_PARAMS={}\u001b[0m\n",
      "\u001b[34mSM_RESOURCE_CONFIG={\"current_host\":\"algo-1\",\"hosts\":[\"algo-1\"],\"network_interface_name\":\"eth0\"}\u001b[0m\n",
      "\u001b[34mSM_INPUT_DATA_CONFIG={\"train\":{\"ContentType\":\"npy\",\"RecordWrapperType\":\"None\",\"S3DistributionType\":\"FullyReplicated\",\"TrainingInputMode\":\"File\"},\"val\":{\"ContentType\":\"npy\",\"RecordWrapperType\":\"None\",\"S3DistributionType\":\"FullyReplicated\",\"TrainingInputMode\":\"File\"}}\u001b[0m\n",
      "\u001b[34mSM_OUTPUT_DATA_DIR=/opt/ml/output/data\u001b[0m\n",
      "\u001b[34mSM_CHANNELS=[\"train\",\"val\"]\u001b[0m\n",
      "\u001b[34mSM_CURRENT_HOST=algo-1\u001b[0m\n",
      "\u001b[34mSM_MODULE_NAME=cifar_train\u001b[0m\n",
      "\u001b[34mSM_LOG_LEVEL=20\u001b[0m\n",
      "\u001b[34mSM_FRAMEWORK_MODULE=sagemaker_tensorflow_container.training:main\u001b[0m\n",
      "\u001b[34mSM_INPUT_DIR=/opt/ml/input\u001b[0m\n",
      "\u001b[34mSM_INPUT_CONFIG_DIR=/opt/ml/input/config\u001b[0m\n",
      "\u001b[34mSM_OUTPUT_DIR=/opt/ml/output\u001b[0m\n",
      "\u001b[34mSM_NUM_CPUS=16\u001b[0m\n",
      "\u001b[34mSM_NUM_GPUS=0\u001b[0m\n",
      "\u001b[34mSM_MODEL_DIR=/opt/ml/model\u001b[0m\n",
      "\u001b[34mSM_MODULE_DIR=s3://cv-examples-892313895307/cv-cifar-model-1-2020-11-24-03-10-52-624/source/sourcedir.tar.gz\u001b[0m\n",
      "\u001b[34mSM_TRAINING_ENV={\"additional_framework_parameters\":{},\"channel_input_dirs\":{\"train\":\"/opt/ml/input/data/train\",\"val\":\"/opt/ml/input/data/val\"},\"current_host\":\"algo-1\",\"framework_module\":\"sagemaker_tensorflow_container.training:main\",\"hosts\":[\"algo-1\"],\"hyperparameters\":{\"epochs\":2,\"model_dir\":\"/opt/ml/model\"},\"input_config_dir\":\"/opt/ml/input/config\",\"input_data_config\":{\"train\":{\"ContentType\":\"npy\",\"RecordWrapperType\":\"None\",\"S3DistributionType\":\"FullyReplicated\",\"TrainingInputMode\":\"File\"},\"val\":{\"ContentType\":\"npy\",\"RecordWrapperType\":\"None\",\"S3DistributionType\":\"FullyReplicated\",\"TrainingInputMode\":\"File\"}},\"input_dir\":\"/opt/ml/input\",\"is_master\":true,\"job_name\":\"cv-cifar-model-1-2020-11-24-03-10-52-624\",\"log_level\":20,\"master_hostname\":\"algo-1\",\"model_dir\":\"/opt/ml/model\",\"module_dir\":\"s3://cv-examples-892313895307/cv-cifar-model-1-2020-11-24-03-10-52-624/source/sourcedir.tar.gz\",\"module_name\":\"cifar_train\",\"network_interface_name\":\"eth0\",\"num_cpus\":16,\"num_gpus\":0,\"output_data_dir\":\"/opt/ml/output/data\",\"output_dir\":\"/opt/ml/output\",\"output_intermediate_dir\":\"/opt/ml/output/intermediate\",\"resource_config\":{\"current_host\":\"algo-1\",\"hosts\":[\"algo-1\"],\"network_interface_name\":\"eth0\"},\"user_entry_point\":\"cifar_train.py\"}\u001b[0m\n",
      "\u001b[34mSM_USER_ARGS=[\"--epochs\",\"2\",\"--model_dir\",\"/opt/ml/model\"]\u001b[0m\n",
      "\u001b[34mSM_OUTPUT_INTERMEDIATE_DIR=/opt/ml/output/intermediate\u001b[0m\n",
      "\u001b[34mSM_CHANNEL_VAL=/opt/ml/input/data/val\u001b[0m\n",
      "\u001b[34mSM_CHANNEL_TRAIN=/opt/ml/input/data/train\u001b[0m\n",
      "\u001b[34mSM_HP_MODEL_DIR=/opt/ml/model\u001b[0m\n",
      "\u001b[34mSM_HP_EPOCHS=2\u001b[0m\n",
      "\u001b[34mPYTHONPATH=/opt/ml/code:/usr/local/bin:/usr/local/lib/python37.zip:/usr/local/lib/python3.7:/usr/local/lib/python3.7/lib-dynload:/usr/local/lib/python3.7/site-packages\n",
      "\u001b[0m\n",
      "\u001b[34mInvoking script with the following command:\n",
      "\u001b[0m\n",
      "\u001b[34m/usr/local/bin/python3.7 cifar_train.py --epochs 2 --model_dir /opt/ml/model\n",
      "\n",
      "\u001b[0m\n",
      "\u001b[34mUsing TensorFlow version: 2.3.0\u001b[0m\n",
      "\u001b[34mX train (49500, 32, 32, 3) y train (49500, 10)\u001b[0m\n",
      "\u001b[34mX validation (500, 32, 32, 3) y validation (500, 10)\u001b[0m\n",
      "\u001b[34mModel: \"sequential\"\u001b[0m\n",
      "\u001b[34m_________________________________________________________________\u001b[0m\n",
      "\u001b[34mLayer (type)                 Output Shape              Param #   \u001b[0m\n",
      "\u001b[34m=================================================================\u001b[0m\n",
      "\u001b[34mconv2d (Conv2D)              (None, 32, 32, 16)        208       \u001b[0m\n",
      "\u001b[34m_________________________________________________________________\u001b[0m\n",
      "\u001b[34mbatch_normalization (BatchNo (None, 32, 32, 16)        64        \u001b[0m\n",
      "\u001b[34m_________________________________________________________________\u001b[0m\n",
      "\u001b[34mmax_pooling2d (MaxPooling2D) (None, 16, 16, 16)        0         \u001b[0m\n",
      "\u001b[34m_________________________________________________________________\u001b[0m\n",
      "\u001b[34mconv2d_1 (Conv2D)            (None, 16, 16, 32)        2080      \u001b[0m\n",
      "\u001b[34m_________________________________________________________________\u001b[0m\n",
      "\u001b[34mbatch_normalization_1 (Batch (None, 16, 16, 32)        128       \u001b[0m\n",
      "\u001b[34m_________________________________________________________________\u001b[0m\n",
      "\u001b[34mmax_pooling2d_1 (MaxPooling2 (None, 8, 8, 32)          0         \u001b[0m\n",
      "\u001b[34m_________________________________________________________________\u001b[0m\n",
      "\u001b[34mconv2d_2 (Conv2D)            (None, 8, 8, 64)          8256      \u001b[0m\n",
      "\u001b[34m_________________________________________________________________\u001b[0m\n",
      "\u001b[34mbatch_normalization_2 (Batch (None, 8, 8, 64)          256       \u001b[0m\n",
      "\u001b[34m_________________________________________________________________\u001b[0m\n",
      "\u001b[34mmax_pooling2d_2 (MaxPooling2 (None, 4, 4, 64)          0         \u001b[0m\n",
      "\u001b[34m_________________________________________________________________\u001b[0m\n",
      "\u001b[34mdropout (Dropout)            (None, 4, 4, 64)          0         \u001b[0m\n",
      "\u001b[34m_________________________________________________________________\u001b[0m\n",
      "\u001b[34mflatten (Flatten)            (None, 1024)              0         \u001b[0m\n",
      "\u001b[34m_________________________________________________________________\u001b[0m\n",
      "\u001b[34mdense (Dense)                (None, 500)               512500    \u001b[0m\n",
      "\u001b[34m_________________________________________________________________\u001b[0m\n",
      "\u001b[34mdropout_1 (Dropout)          (None, 500)               0         \u001b[0m\n",
      "\u001b[34m_________________________________________________________________\u001b[0m\n",
      "\u001b[34mdense_1 (Dense)              (None, 10)                5010      \u001b[0m\n",
      "\u001b[34m=================================================================\u001b[0m\n",
      "\u001b[34mTotal params: 528,502\u001b[0m\n",
      "\u001b[34mTrainable params: 528,278\u001b[0m\n",
      "\u001b[34mNon-trainable params: 224\u001b[0m\n",
      "\u001b[34m_________________________________________________________________\u001b[0m\n",
      "\u001b[34m[2020-11-24 03:15:55.843 ip-10-0-199-8.ec2.internal:33 INFO json_config.py:90] Creating hook from json_config at /opt/ml/input/config/debughookconfig.json.\u001b[0m\n",
      "\u001b[34m[2020-11-24 03:15:55.843 ip-10-0-199-8.ec2.internal:33 INFO hook.py:193] tensorboard_dir has not been set for the hook. SMDebug will not be exporting tensorboard summaries.\u001b[0m\n",
      "\u001b[34m[2020-11-24 03:15:55.843 ip-10-0-199-8.ec2.internal:33 INFO hook.py:238] Saving to /opt/ml/output/tensors\u001b[0m\n",
      "\u001b[34m[2020-11-24 03:15:55.843 ip-10-0-199-8.ec2.internal:33 INFO state_store.py:67] The checkpoint config file /opt/ml/input/config/checkpointconfig.json does not exist.\u001b[0m\n",
      "\u001b[34m[2020-11-24 03:15:56.061 ip-10-0-199-8.ec2.internal:33 INFO hook.py:398] Monitoring the collections: metrics, losses, sm_metrics\u001b[0m\n",
      "\u001b[34mEpoch 1/2\u001b[0m\n"
     ]
    },
    {
     "name": "stdout",
     "output_type": "stream",
     "text": [
      "\u001b[34m1546/1546 - 39s - loss: 1.7210 - accuracy: 0.3867 - val_loss: 1.5949 - val_accuracy: 0.3920\u001b[0m\n",
      "\u001b[34mEpoch 2/2\u001b[0m\n",
      "\n",
      "2020-11-24 03:17:19 Uploading - Uploading generated training model\u001b[34m1546/1546 - 38s - loss: 1.5229 - accuracy: 0.4492 - val_loss: 1.4968 - val_accuracy: 0.4360\u001b[0m\n",
      "\u001b[34m2020-11-24 03:17:16,964 sagemaker-training-toolkit INFO     Reporting training SUCCESS\u001b[0m\n",
      "\n",
      "2020-11-24 03:17:26 Completed - Training job completed\n",
      "Training seconds: 235\n",
      "Billable seconds: 235\n"
     ]
    }
   ],
   "source": [
    "model_name = 'cifar-model-1'\n",
    "hyperparameters = {'epochs': 2}\n",
    "estimator_parameters = {'entry_point':'cifar_train.py',\n",
    "                        'instance_type': 'ml.m5.4xlarge',\n",
    "                        'instance_count': 1,\n",
    "                        'model_dir': f'/opt/ml/model',\n",
    "                        'role': role,\n",
    "                        'hyperparameters': hyperparameters,\n",
    "                        'output_path': f's3://{BUCKET}/{PREFIX}/out',\n",
    "                        'base_job_name': f'cv-{model_name}',\n",
    "                        'framework_version': TF_FRAMEWORK_VERSION,\n",
    "                        'py_version': 'py37',\n",
    "                        'script_mode': True}\n",
    "\n",
    "estimator = TensorFlow(**estimator_parameters)\n",
    "\n",
    "estimator.fit(inputs)"
   ]
  },
  {
   "cell_type": "code",
   "execution_count": 18,
   "metadata": {},
   "outputs": [
    {
     "data": {
      "text/plain": [
       "'s3://cv-examples-892313895307/cifar-clf/out/cv-cifar-model-1-2020-11-24-03-10-52-624/output/model.tar.gz'"
      ]
     },
     "execution_count": 18,
     "metadata": {},
     "output_type": "execute_result"
    }
   ],
   "source": [
    "model_location = estimator.model_data\n",
    "model_location"
   ]
  },
  {
   "cell_type": "code",
   "execution_count": 19,
   "metadata": {},
   "outputs": [],
   "source": [
    "output_1 = f's3://{BUCKET}/{PREFIX}/mme/model1.tar.gz'"
   ]
  },
  {
   "cell_type": "code",
   "execution_count": 20,
   "metadata": {},
   "outputs": [
    {
     "name": "stdout",
     "output_type": "stream",
     "text": [
      "Completed 5.7 MiB/5.7 MiB (15.3 MiB/s) with 1 file(s) remaining\r",
      "copy: s3://cv-examples-892313895307/cifar-clf/out/cv-cifar-model-1-2020-11-24-03-10-52-624/output/model.tar.gz to s3://cv-examples-892313895307/cifar-clf/mme/model1.tar.gz\r\n"
     ]
    }
   ],
   "source": [
    "!aws s3 cp {model_location} {output_1} "
   ]
  },
  {
   "cell_type": "markdown",
   "metadata": {},
   "source": [
    "### Deploy Model"
   ]
  },
  {
   "cell_type": "code",
   "execution_count": 28,
   "metadata": {},
   "outputs": [],
   "source": [
    "from sagemaker.tensorflow import TensorFlowModel\n",
    "from datetime import datetime\n",
    "import time"
   ]
  },
  {
   "cell_type": "code",
   "execution_count": 29,
   "metadata": {},
   "outputs": [
    {
     "data": {
      "text/plain": [
       "'2020-11-24-03-23-57'"
      ]
     },
     "execution_count": 29,
     "metadata": {},
     "output_type": "execute_result"
    }
   ],
   "source": [
    "current_time = datetime.fromtimestamp(time.time()).strftime('%Y-%m-%d-%H-%M-%S')\n",
    "current_time"
   ]
  },
  {
   "cell_type": "code",
   "execution_count": 30,
   "metadata": {},
   "outputs": [],
   "source": [
    "model = TensorFlowModel(model_data=output_1, \n",
    "                        role=role,  \n",
    "                        name='cv-cifar-model', \n",
    "                        sagemaker_session=sagemaker_session, \n",
    "                        framework_version=TF_FRAMEWORK_VERSION)"
   ]
  },
  {
   "cell_type": "code",
   "execution_count": 32,
   "metadata": {},
   "outputs": [
    {
     "name": "stderr",
     "output_type": "stream",
     "text": [
      "update_endpoint is a no-op in sagemaker>=2.\n",
      "See: https://sagemaker.readthedocs.io/en/stable/v2.html for details.\n",
      "Using already existing model: cv-cifar-model\n"
     ]
    },
    {
     "name": "stdout",
     "output_type": "stream",
     "text": [
      "-------------!"
     ]
    }
   ],
   "source": [
    "predictor = model.deploy(initial_instance_count=1, \n",
    "                         instance_type='ml.m5.large', \n",
    "                         endpoint_name=f'cv-model-1-endpoint-{current_time}')"
   ]
  },
  {
   "cell_type": "markdown",
   "metadata": {},
   "source": [
    "### Test Deployed Endpoint"
   ]
  },
  {
   "cell_type": "code",
   "execution_count": 33,
   "metadata": {},
   "outputs": [],
   "source": [
    "from tensorflow.keras.preprocessing import image\n",
    "import numpy as np"
   ]
  },
  {
   "cell_type": "code",
   "execution_count": 35,
   "metadata": {},
   "outputs": [
    {
     "data": {
      "text/plain": [
       "(1, 32, 32, 3)"
      ]
     },
     "execution_count": 35,
     "metadata": {},
     "output_type": "execute_result"
    }
   ],
   "source": [
    "img_path = './DATA/CIFAR_10/raw_images/truck.png'\n",
    "img = image.load_img(img_path)\n",
    "data = image.img_to_array(img)\n",
    "data = data.astype('float32')/255\n",
    "data = data.reshape(1, 32, 32, 3)\n",
    "data.shape"
   ]
  },
  {
   "cell_type": "code",
   "execution_count": 36,
   "metadata": {},
   "outputs": [
    {
     "data": {
      "text/plain": [
       "{'predictions': [[0.0102487942,\n",
       "   0.00091414561,\n",
       "   0.110007435,\n",
       "   0.713140547,\n",
       "   0.0296733547,\n",
       "   0.0567950346,\n",
       "   0.0268647559,\n",
       "   0.0452287532,\n",
       "   0.00440646755,\n",
       "   0.00272068148]]}"
      ]
     },
     "execution_count": 36,
     "metadata": {},
     "output_type": "execute_result"
    }
   ],
   "source": [
    "predictor.predict(data)"
   ]
  },
  {
   "cell_type": "code",
   "execution_count": null,
   "metadata": {},
   "outputs": [],
   "source": []
  }
 ],
 "metadata": {
  "kernelspec": {
   "display_name": "conda_tensorflow_p36",
   "language": "python",
   "name": "conda_tensorflow_p36"
  },
  "language_info": {
   "codemirror_mode": {
    "name": "ipython",
    "version": 3
   },
   "file_extension": ".py",
   "mimetype": "text/x-python",
   "name": "python",
   "nbconvert_exporter": "python",
   "pygments_lexer": "ipython3",
   "version": "3.6.10"
  }
 },
 "nbformat": 4,
 "nbformat_minor": 4
}
